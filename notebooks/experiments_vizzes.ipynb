{
 "cells": [
  {
   "cell_type": "code",
   "execution_count": 12,
   "metadata": {},
   "outputs": [],
   "source": [
    "import json\n",
    "import matplotlib.pyplot as plt\n",
    "from statistics import mean, variance\n",
    "\n",
    "from kp.utils.constants import EXPERIMENTS_DIR"
   ]
  },
  {
   "cell_type": "code",
   "execution_count": 13,
   "metadata": {},
   "outputs": [],
   "source": [
    "results_paths = [\n",
    "    EXPERIMENTS_DIR / \"fake_movies_real_actors\" / \"2025-04-14_12-17-20\" / \"results.json\"\n",
    "]"
   ]
  },
  {
   "cell_type": "code",
   "execution_count": 16,
   "metadata": {},
   "outputs": [],
   "source": [
    "results = []\n",
    "for results_path  in results_paths:\n",
    "    with open(results_path, \"r\") as f:\n",
    "        data = json.load(f)\n",
    "\n",
    "    dropout_rate = data[\"config\"][\"experiment_config\"][\"patch_dropout\"]\n",
    "\n",
    "    target_probs = [\n",
    "        ex[\"target\"][\"token_prob\"]\n",
    "        for ex in data[\"results\"]\n",
    "        if \"target\" in ex and \"token_prob\" in ex[\"target\"]\n",
    "    ]\n",
    "\n",
    "    avg_prob = mean(target_probs)\n",
    "    var_prob = variance(target_probs)\n",
    "\n",
    "    results.append({\n",
    "        \"dropout_rate\": dropout_rate,\n",
    "        \"avg_prob\": avg_prob,\n",
    "        \"var_prob\": var_prob\n",
    "    })\n"
   ]
  },
  {
   "cell_type": "code",
   "execution_count": 17,
   "metadata": {},
   "outputs": [
    {
     "data": {
      "text/plain": [
       "[{'dropout_rate': 0.1,\n",
       "  'avg_prob': 0.7041629058725972,\n",
       "  'var_prob': 0.15347772340102814}]"
      ]
     },
     "execution_count": 17,
     "metadata": {},
     "output_type": "execute_result"
    }
   ],
   "source": [
    "results\n"
   ]
  },
  {
   "cell_type": "code",
   "execution_count": null,
   "metadata": {},
   "outputs": [],
   "source": [
    "# Plot\n",
    "plt.plot([dropout_rate], [avg_prob], marker=\"o\")\n",
    "plt.xlabel(\"Dropout Rate\")\n",
    "plt.ylabel(\"Average Target Token Probability\")\n",
    "plt.title(\"Target Token Probability vs. Dropout Rate\")\n",
    "plt.grid(True)\n",
    "plt.show()"
   ]
  }
 ],
 "metadata": {
  "kernelspec": {
   "display_name": "kp",
   "language": "python",
   "name": "python3"
  },
  "language_info": {
   "codemirror_mode": {
    "name": "ipython",
    "version": 3
   },
   "file_extension": ".py",
   "mimetype": "text/x-python",
   "name": "python",
   "nbconvert_exporter": "python",
   "pygments_lexer": "ipython3",
   "version": "3.10.16"
  }
 },
 "nbformat": 4,
 "nbformat_minor": 2
}
