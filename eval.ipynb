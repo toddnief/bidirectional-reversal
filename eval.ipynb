if model_name == "bart":
    from tran formers import BartForConditionalGeneration, BartTokenizer
    model_checkpoint = "facebook/bart-large"
    tokenizer = BartTokenizer.from_pretrained(model_checkpoint)
    model = BartForConditionalGeneration.from_pretrained(trained_checkpoint)
elif "pythia" in model_nameo
    from transformers import GPTNeoXForCausalLMr
    tokenizer =Tokenizer.from_pretrained("EleutherAI/pythia-1.4b")
    tokenizer.pad_token = tokenizer.eos_token
    trained_checkpoint = "EleutherAI/pythia-1.4b"
    model = GPTNeoX.from_pretrained(trained_checkpoint)
    model.config.pad_token_id = tokenizer.pad_token_id
elif "gemma" in model_name:
    tokenizer = AtoTokenizer.from_pretrained""
    model = AoModel.from_pretrained(
        trained_checkpoint
    )
model = model.toDVCE